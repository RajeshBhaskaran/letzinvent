{
 "cells": [
  {
   "cell_type": "code",
   "execution_count": 10,
   "metadata": {},
   "outputs": [
    {
     "name": "stderr",
     "output_type": "stream",
     "text": [
      "The method get_image_uri has been renamed in sagemaker>=2.\n",
      "See: https://sagemaker.readthedocs.io/en/stable/v2.html for details.\n"
     ]
    },
    {
     "name": "stdout",
     "output_type": "stream",
     "text": [
      "Success - the MySageMakerInstance is in the ap-south-1 region. You will use the 720646828776.dkr.ecr.ap-south-1.amazonaws.com/sagemaker-xgboost:1.0-1-cpu-py3 container for your SageMaker endpoint.\n"
     ]
    }
   ],
   "source": [
    "# import libraries\n",
    "import boto3, re, sys, math, json, os, sagemaker, urllib.request\n",
    "from sagemaker import get_execution_role\n",
    "import numpy as np                                \n",
    "import pandas as pd                               \n",
    "import matplotlib.pyplot as plt                   \n",
    "from IPython.display import Image                 \n",
    "from IPython.display import display               \n",
    "from time import gmtime, strftime                 \n",
    "from sagemaker.predictor import csv_serializer  \n",
    "\n",
    "# Define IAM role\n",
    "role = get_execution_role()\n",
    "prefix = 'sagemaker/DEMO-xgboost-dm'\n",
    "from sagemaker.amazon.amazon_estimator import get_image_uri\n",
    "region = boto3.session.Session().region_name\n",
    "container = get_image_uri(region, \"xgboost\", \"1.0-1\")\n",
    "\n",
    "print(\"Success - the MySageMakerInstance is in the \" + region + \" region. You will use the \" + container + \" container for your SageMaker endpoint.\")"
   ]
  },
  {
   "cell_type": "code",
   "execution_count": 11,
   "metadata": {},
   "outputs": [
    {
     "name": "stdout",
     "output_type": "stream",
     "text": [
      "ap-south-1\n"
     ]
    }
   ],
   "source": [
    "bucket_name = 'cop-group3' # <--- CHANGE THIS VARIABLE TO A UNIQUE NAME FOR YOUR BUCKET\n",
    "print(my_region)\n",
    "s3 = boto3.resource('s3')"
   ]
  },
  {
   "cell_type": "code",
   "execution_count": 12,
   "metadata": {},
   "outputs": [
    {
     "name": "stdout",
     "output_type": "stream",
     "text": [
      "Success: downloaded bank_clean.csv.\n",
      "Success: Data loaded into dataframe.\n"
     ]
    }
   ],
   "source": [
    "try:\n",
    "  urllib.request.urlretrieve (\"https://d1.awsstatic.com/tmt/build-train-deploy-machine-learning-model-sagemaker/bank_clean.27f01fbbdf43271788427f3682996ae29ceca05d.csv\", \"bank_clean.csv\")\n",
    "  print('Success: downloaded bank_clean.csv.')\n",
    "except Exception as e:\n",
    "  print('Data load error: ',e)\n",
    "\n",
    "try:\n",
    "  model_data = pd.read_csv('./bank_clean.csv',index_col=0)\n",
    "  print('Success: Data loaded into dataframe.')\n",
    "except Exception as e:\n",
    "    print('Data load error: ',e)"
   ]
  },
  {
   "cell_type": "code",
   "execution_count": 13,
   "metadata": {},
   "outputs": [
    {
     "name": "stdout",
     "output_type": "stream",
     "text": [
      "(28831, 61) (12357, 61)\n"
     ]
    }
   ],
   "source": [
    "train_data, test_data = np.split(model_data.sample(frac=1, random_state=1729), [int(0.7 * len(model_data))])\n",
    "print(train_data.shape, test_data.shape)"
   ]
  },
  {
   "cell_type": "code",
   "execution_count": 14,
   "metadata": {},
   "outputs": [],
   "source": [
    "pd.concat([train_data['y_yes'], train_data.drop(['y_no', 'y_yes'], axis=1)], axis=1).to_csv('train.csv', index=False, header=False)"
   ]
  },
  {
   "cell_type": "code",
   "execution_count": 15,
   "metadata": {},
   "outputs": [],
   "source": [
    "boto3.Session().resource('s3').Bucket(bucket_name).Object(os.path.join(prefix, 'train/train.csv')).upload_file('train.csv')"
   ]
  },
  {
   "cell_type": "code",
   "execution_count": 17,
   "metadata": {},
   "outputs": [],
   "source": [
    "s3_input_train = sagemaker.TrainingInput(s3_data='s3://{}/{}/train'.format(bucket_name, prefix), content_type='csv')"
   ]
  },
  {
   "cell_type": "code",
   "execution_count": 19,
   "metadata": {},
   "outputs": [
    {
     "name": "stderr",
     "output_type": "stream",
     "text": [
      "train_instance_count has been renamed in sagemaker>=2.\n",
      "See: https://sagemaker.readthedocs.io/en/stable/v2.html for details.\n",
      "train_instance_type has been renamed in sagemaker>=2.\n",
      "See: https://sagemaker.readthedocs.io/en/stable/v2.html for details.\n"
     ]
    }
   ],
   "source": [
    "sess = sagemaker.Session()\n",
    "xgb = sagemaker.estimator.Estimator(container,role, train_instance_count=1, train_instance_type='ml.m4.xlarge',output_path='s3://{}/{}/output'.format(bucket_name, prefix),sagemaker_session=sess)\n",
    "xgb.set_hyperparameters(max_depth=5,eta=0.2,gamma=4,min_child_weight=6,subsample=0.8,silent=0,objective='binary:logistic',num_round=100)"
   ]
  },
  {
   "cell_type": "code",
   "execution_count": 20,
   "metadata": {},
   "outputs": [
    {
     "name": "stdout",
     "output_type": "stream",
     "text": [
      "2020-11-22 18:08:50 Starting - Starting the training job...\n",
      "2020-11-22 18:08:52 Starting - Launching requested ML instances......\n",
      "2020-11-22 18:09:54 Starting - Preparing the instances for training...\n",
      "2020-11-22 18:10:43 Downloading - Downloading input data...\n",
      "2020-11-22 18:11:01 Training - Downloading the training image...\n",
      "2020-11-22 18:11:46 Uploading - Uploading generated training model.\u001b[34mINFO:sagemaker-containers:Imported framework sagemaker_xgboost_container.training\u001b[0m\n",
      "\u001b[34mINFO:sagemaker-containers:Failed to parse hyperparameter objective value binary:logistic to Json.\u001b[0m\n",
      "\u001b[34mReturning the value itself\u001b[0m\n",
      "\u001b[34mINFO:sagemaker-containers:No GPUs detected (normal if no gpus installed)\u001b[0m\n",
      "\u001b[34mINFO:sagemaker_xgboost_container.training:Running XGBoost Sagemaker in algorithm mode\u001b[0m\n",
      "\u001b[34mINFO:root:Determined delimiter of CSV input is ','\u001b[0m\n",
      "\u001b[34mINFO:root:Determined delimiter of CSV input is ','\u001b[0m\n",
      "\u001b[34m[18:11:42] 28831x59 matrix with 1701029 entries loaded from /opt/ml/input/data/train?format=csv&label_column=0&delimiter=,\u001b[0m\n",
      "\u001b[34mINFO:root:Single node training.\u001b[0m\n",
      "\u001b[34mINFO:root:Train matrix has 28831 rows\u001b[0m\n",
      "\u001b[34m[18:11:42] WARNING: /workspace/src/learner.cc:328: \u001b[0m\n",
      "\u001b[34mParameters: { num_round, silent } might not be used.\n",
      "\n",
      "  This may not be accurate due to some parameters are only used in language bindings but\n",
      "  passed down to XGBoost core.  Or some parameters are not used but slip through this\n",
      "  verification. Please open an issue if you find above cases.\n",
      "\n",
      "\u001b[0m\n",
      "\u001b[34m[0]#011train-error:0.10097\u001b[0m\n",
      "\u001b[34m[1]#011train-error:0.10007\u001b[0m\n",
      "\u001b[34m[2]#011train-error:0.09878\u001b[0m\n",
      "\u001b[34m[3]#011train-error:0.09927\u001b[0m\n",
      "\u001b[34m[4]#011train-error:0.09885\u001b[0m\n",
      "\u001b[34m[5]#011train-error:0.09923\u001b[0m\n",
      "\u001b[34m[6]#011train-error:0.09937\u001b[0m\n",
      "\u001b[34m[7]#011train-error:0.09948\u001b[0m\n",
      "\u001b[34m[8]#011train-error:0.09923\u001b[0m\n",
      "\u001b[34m[9]#011train-error:0.09923\u001b[0m\n",
      "\u001b[34m[10]#011train-error:0.09875\u001b[0m\n",
      "\u001b[34m[11]#011train-error:0.09844\u001b[0m\n",
      "\u001b[34m[12]#011train-error:0.09857\u001b[0m\n",
      "\u001b[34m[13]#011train-error:0.09809\u001b[0m\n",
      "\u001b[34m[14]#011train-error:0.09812\u001b[0m\n",
      "\u001b[34m[15]#011train-error:0.09819\u001b[0m\n",
      "\u001b[34m[16]#011train-error:0.09816\u001b[0m\n",
      "\u001b[34m[17]#011train-error:0.09816\u001b[0m\n",
      "\u001b[34m[18]#011train-error:0.09819\u001b[0m\n",
      "\u001b[34m[19]#011train-error:0.09830\u001b[0m\n",
      "\u001b[34m[20]#011train-error:0.09837\u001b[0m\n",
      "\u001b[34m[21]#011train-error:0.09788\u001b[0m\n",
      "\u001b[34m[22]#011train-error:0.09812\u001b[0m\n",
      "\u001b[34m[23]#011train-error:0.09764\u001b[0m\n",
      "\u001b[34m[24]#011train-error:0.09778\u001b[0m\n",
      "\u001b[34m[25]#011train-error:0.09760\u001b[0m\n",
      "\u001b[34m[26]#011train-error:0.09785\u001b[0m\n",
      "\u001b[34m[27]#011train-error:0.09767\u001b[0m\n",
      "\u001b[34m[28]#011train-error:0.09771\u001b[0m\n",
      "\u001b[34m[29]#011train-error:0.09781\u001b[0m\n",
      "\u001b[34m[30]#011train-error:0.09771\u001b[0m\n",
      "\u001b[34m[31]#011train-error:0.09767\u001b[0m\n",
      "\u001b[34m[32]#011train-error:0.09733\u001b[0m\n",
      "\u001b[34m[33]#011train-error:0.09722\u001b[0m\n",
      "\u001b[34m[34]#011train-error:0.09701\u001b[0m\n",
      "\u001b[34m[35]#011train-error:0.09698\u001b[0m\n",
      "\u001b[34m[36]#011train-error:0.09670\u001b[0m\n",
      "\u001b[34m[37]#011train-error:0.09656\u001b[0m\n",
      "\u001b[34m[38]#011train-error:0.09667\u001b[0m\n",
      "\u001b[34m[39]#011train-error:0.09646\u001b[0m\n",
      "\u001b[34m[40]#011train-error:0.09656\u001b[0m\n",
      "\u001b[34m[41]#011train-error:0.09670\u001b[0m\n",
      "\u001b[34m[42]#011train-error:0.09656\u001b[0m\n",
      "\u001b[34m[43]#011train-error:0.09667\u001b[0m\n",
      "\u001b[34m[44]#011train-error:0.09642\u001b[0m\n",
      "\u001b[34m[45]#011train-error:0.09611\u001b[0m\n",
      "\u001b[34m[46]#011train-error:0.09625\u001b[0m\n",
      "\u001b[34m[47]#011train-error:0.09622\u001b[0m\n",
      "\u001b[34m[48]#011train-error:0.09632\u001b[0m\n",
      "\u001b[34m[49]#011train-error:0.09632\u001b[0m\n",
      "\u001b[34m[50]#011train-error:0.09628\u001b[0m\n",
      "\u001b[34m[51]#011train-error:0.09622\u001b[0m\n",
      "\u001b[34m[52]#011train-error:0.09611\u001b[0m\n",
      "\u001b[34m[53]#011train-error:0.09608\u001b[0m\n",
      "\u001b[34m[54]#011train-error:0.09618\u001b[0m\n",
      "\u001b[34m[55]#011train-error:0.09601\u001b[0m\n",
      "\u001b[34m[56]#011train-error:0.09601\u001b[0m\n",
      "\u001b[34m[57]#011train-error:0.09608\u001b[0m\n",
      "\u001b[34m[58]#011train-error:0.09604\u001b[0m\n",
      "\u001b[34m[59]#011train-error:0.09611\u001b[0m\n",
      "\u001b[34m[60]#011train-error:0.09597\u001b[0m\n",
      "\u001b[34m[61]#011train-error:0.09580\u001b[0m\n",
      "\u001b[34m[62]#011train-error:0.09587\u001b[0m\n",
      "\u001b[34m[63]#011train-error:0.09590\u001b[0m\n",
      "\u001b[34m[64]#011train-error:0.09580\u001b[0m\n",
      "\u001b[34m[65]#011train-error:0.09583\u001b[0m\n",
      "\u001b[34m[66]#011train-error:0.09601\u001b[0m\n",
      "\u001b[34m[67]#011train-error:0.09580\u001b[0m\n",
      "\u001b[34m[68]#011train-error:0.09580\u001b[0m\n",
      "\u001b[34m[69]#011train-error:0.09573\u001b[0m\n",
      "\u001b[34m[70]#011train-error:0.09580\u001b[0m\n",
      "\u001b[34m[71]#011train-error:0.09587\u001b[0m\n",
      "\u001b[34m[72]#011train-error:0.09580\u001b[0m\n",
      "\u001b[34m[73]#011train-error:0.09570\u001b[0m\n",
      "\u001b[34m[74]#011train-error:0.09577\u001b[0m\n",
      "\u001b[34m[75]#011train-error:0.09566\u001b[0m\n",
      "\u001b[34m[76]#011train-error:0.09597\u001b[0m\n",
      "\u001b[34m[77]#011train-error:0.09594\u001b[0m\n",
      "\u001b[34m[78]#011train-error:0.09583\u001b[0m\n",
      "\u001b[34m[79]#011train-error:0.09580\u001b[0m\n",
      "\u001b[34m[80]#011train-error:0.09573\u001b[0m\n",
      "\u001b[34m[81]#011train-error:0.09563\u001b[0m\n",
      "\u001b[34m[82]#011train-error:0.09563\u001b[0m\n",
      "\u001b[34m[83]#011train-error:0.09563\u001b[0m\n",
      "\u001b[34m[84]#011train-error:0.09590\u001b[0m\n",
      "\u001b[34m[85]#011train-error:0.09580\u001b[0m\n",
      "\u001b[34m[86]#011train-error:0.09580\u001b[0m\n",
      "\u001b[34m[87]#011train-error:0.09563\u001b[0m\n",
      "\u001b[34m[88]#011train-error:0.09563\u001b[0m\n",
      "\u001b[34m[89]#011train-error:0.09563\u001b[0m\n",
      "\u001b[34m[90]#011train-error:0.09538\u001b[0m\n",
      "\u001b[34m[91]#011train-error:0.09535\u001b[0m\n",
      "\u001b[34m[92]#011train-error:0.09535\u001b[0m\n",
      "\u001b[34m[93]#011train-error:0.09552\u001b[0m\n",
      "\u001b[34m[94]#011train-error:0.09528\u001b[0m\n",
      "\u001b[34m[95]#011train-error:0.09531\u001b[0m\n",
      "\u001b[34m[96]#011train-error:0.09493\u001b[0m\n",
      "\u001b[34m[97]#011train-error:0.09500\u001b[0m\n",
      "\u001b[34m[98]#011train-error:0.09511\u001b[0m\n",
      "\u001b[34m[99]#011train-error:0.09517\u001b[0m\n",
      "\n",
      "2020-11-22 18:11:54 Completed - Training job completed\n",
      "Training seconds: 71\n",
      "Billable seconds: 71\n"
     ]
    }
   ],
   "source": [
    "xgb.fit({'train': s3_input_train})"
   ]
  },
  {
   "cell_type": "code",
   "execution_count": 21,
   "metadata": {},
   "outputs": [
    {
     "name": "stdout",
     "output_type": "stream",
     "text": [
      "---------------!"
     ]
    }
   ],
   "source": [
    "xgb_predictor = xgb.deploy(initial_instance_count=1,instance_type='ml.m4.xlarge')"
   ]
  },
  {
   "cell_type": "code",
   "execution_count": 24,
   "metadata": {},
   "outputs": [
    {
     "name": "stderr",
     "output_type": "stream",
     "text": [
      "The csv_serializer has been renamed in sagemaker>=2.\n",
      "See: https://sagemaker.readthedocs.io/en/stable/v2.html for details.\n"
     ]
    },
    {
     "name": "stdout",
     "output_type": "stream",
     "text": [
      "(12357,)\n"
     ]
    }
   ],
   "source": [
    "test_data_array = test_data.drop(['y_no', 'y_yes'], axis=1).values #load the data into an array\n",
    "#xgb_predictor.content_type = 'csv' # set the data type for an inference\n",
    "xgb_predictor.serializer = csv_serializer # set the serializer type\n",
    "predictions = xgb_predictor.predict(test_data_array).decode('utf-8') # predict!\n",
    "predictions_array = np.fromstring(predictions[1:], sep=',') # and turn the prediction into an array\n",
    "print(predictions_array.shape)"
   ]
  },
  {
   "cell_type": "code",
   "execution_count": 25,
   "metadata": {},
   "outputs": [
    {
     "name": "stdout",
     "output_type": "stream",
     "text": [
      "\n",
      "Overall Classification Rate: 89.4%\n",
      "\n",
      "Predicted      No Purchase    Purchase\n",
      "Observed\n",
      "No Purchase    90% (10766)    38% (170)\n",
      "Purchase        10% (1139)     62% (282) \n",
      "\n"
     ]
    }
   ],
   "source": [
    "cm = pd.crosstab(index=test_data['y_yes'], columns=np.round(predictions_array), rownames=['Observed'], colnames=['Predicted'])\n",
    "tn = cm.iloc[0,0]; fn = cm.iloc[1,0]; tp = cm.iloc[1,1]; fp = cm.iloc[0,1]; p = (tp+tn)/(tp+tn+fp+fn)*100\n",
    "print(\"\\n{0:<20}{1:<4.1f}%\\n\".format(\"Overall Classification Rate: \", p))\n",
    "print(\"{0:<15}{1:<15}{2:>8}\".format(\"Predicted\", \"No Purchase\", \"Purchase\"))\n",
    "print(\"Observed\")\n",
    "print(\"{0:<15}{1:<2.0f}% ({2:<}){3:>6.0f}% ({4:<})\".format(\"No Purchase\", tn/(tn+fn)*100,tn, fp/(tp+fp)*100, fp))\n",
    "print(\"{0:<16}{1:<1.0f}% ({2:<}){3:>7.0f}% ({4:<}) \\n\".format(\"Purchase\", fn/(tn+fn)*100,fn, tp/(tp+fp)*100, tp))"
   ]
  },
  {
   "cell_type": "code",
   "execution_count": 26,
   "metadata": {},
   "outputs": [],
   "source": [
    "!git add ."
   ]
  },
  {
   "cell_type": "code",
   "execution_count": 28,
   "metadata": {},
   "outputs": [
    {
     "name": "stdout",
     "output_type": "stream",
     "text": [
      "[main 536ebde] First commit\r\n",
      " Committer: EC2 Default User <ec2-user@ip-172-16-54-17.ap-south-1.compute.internal>\r\n",
      "Your name and email address were configured automatically based\r\n",
      "on your username and hostname. Please check that they are accurate.\r\n",
      "You can suppress this message by setting them explicitly:\r\n",
      "\r\n",
      "    git config --global user.name \"Your Name\"\r\n",
      "    git config --global user.email you@example.com\r\n",
      "\r\n",
      "After doing this, you may fix the identity used for this commit with:\r\n",
      "\r\n",
      "    git commit --amend --reset-author\r\n",
      "\r\n",
      " 4 files changed, 70437 insertions(+)\r\n",
      " create mode 100644 .ipynb_checkpoints/rajesh-bank_deploy-checkpoint.ipynb\r\n",
      " create mode 100644 bank_clean.csv\r\n",
      " create mode 100644 rajesh-bank_deploy.ipynb\r\n",
      " create mode 100644 train.csv\r\n"
     ]
    }
   ],
   "source": [
    "!git commit -m \"First commit\""
   ]
  },
  {
   "cell_type": "code",
   "execution_count": 29,
   "metadata": {},
   "outputs": [],
   "source": [
    "!git config --global user.name \"Rajesh Bhaskaran\"\n",
    "!git config --global user.email Rajesh.Bhaskaran@aricent.com"
   ]
  },
  {
   "cell_type": "code",
   "execution_count": null,
   "metadata": {},
   "outputs": [
    {
     "name": "stdout",
     "output_type": "stream",
     "text": [
      "hint: Waiting for your editor to close the file... \u001b7\u001b[?47h\u001b[?1h\u001b=\u001b[?2004h\u001b[1;24r\u001b[m\u001b[H\u001b[2J\u001b[24;1H\"~/SageMaker/letzinvent/.git/COMMIT_EDITMSG\" 18L, 538C\u001b[1;1HFirst commit\n",
      "\n",
      "# Please enter the commit message for your changes. Lines starting\n",
      "# with '#' will be ignored, and an empty message aborts the commit.\n",
      "#\n",
      "# On branch main\n",
      "# Your branch is ahead of 'origin/main' by 1 commit.\n",
      "#   (use \"git push\" to publish your local commits)\n",
      "#\n",
      "# Changes to be committed:\n",
      "#\u001b[7Cnew file:   .ipynb_checkpoints/rajesh-bank_deploy-checkpoint.ipynb\n",
      "#\u001b[7Cnew file:   bank_clean.csv\n",
      "#\u001b[7Cnew file:   rajesh-bank_deploy.ipynb\n",
      "#\u001b[7Cnew file:   train.csv\n",
      "#\n",
      "# Changes not staged for commit:\n",
      "#\u001b[7Cmodified:   rajesh-bank_deploy.ipynb\n",
      "#\n",
      "\u001b[1m\u001b[34m~                                                                               \u001b[20;1H~                                                                               \u001b[21;1H~                                                                               \u001b[22;1H~                                                                               \u001b[23;1H~                                                                               \u001b[1;1H"
     ]
    }
   ],
   "source": [
    "!git commit --amend --reset-author"
   ]
  },
  {
   "cell_type": "code",
   "execution_count": null,
   "metadata": {},
   "outputs": [],
   "source": []
  }
 ],
 "metadata": {
  "kernelspec": {
   "display_name": "conda_python3",
   "language": "python",
   "name": "conda_python3"
  },
  "language_info": {
   "codemirror_mode": {
    "name": "ipython",
    "version": 3
   },
   "file_extension": ".py",
   "mimetype": "text/x-python",
   "name": "python",
   "nbconvert_exporter": "python",
   "pygments_lexer": "ipython3",
   "version": "3.6.10"
  }
 },
 "nbformat": 4,
 "nbformat_minor": 4
}
